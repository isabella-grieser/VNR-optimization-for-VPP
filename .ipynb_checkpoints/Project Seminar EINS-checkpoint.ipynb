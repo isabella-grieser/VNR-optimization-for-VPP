{
 "cells": [
  {
   "cell_type": "code",
   "execution_count": 1,
   "metadata": {
    "scrolled": true
   },
   "outputs": [
    {
     "data": {
      "text/plain": [
       "Network"
      ]
     },
     "execution_count": 3,
     "metadata": {},
     "output_type": "execute_result"
    }
   ],
   "source": [
    "using JuMP\n",
    "\n",
    "include(\"scripts/modelGeneration.jl\")\n",
    "include(\"scripts/modelStructure.jl\")"
   ]
  },
  {
   "cell_type": "markdown",
   "metadata": {},
   "source": [
    "# Extension of the Virtual Network Embedding formulation for Virtual Power Plants\n",
    "For this project seminar, an [optimization method for Virtual Network Embeddeding (VNE) systems](https://dl.acm.org/doi/abs/10.1145/3396851.3397693) was extended to handle Virtual Power Plant (VPP) systems in order to minimize its network costs while making sure that relevant system parameters are fulfilled by the network.<br>\n",
    "VPPs are created by grouping multiple small sized power generating agents, such as power panels and wind turbines, together in order to form a virtual power generating unit that is able to act like a conventional power plant to outside observers.<br>\n",
    "Problematic for such a system is that its members may not produce reliably an in time stable power output. This gets obvious when considering renewable energy sources, where wind and light intensity may vary heavily during the day and even the year. "
   ]
  },
  {
   "cell_type": "markdown",
   "metadata": {},
   "source": [
    "## Virtual Power Plant Model Description\n",
    "As described in [this paper](https://ieeexplore.ieee.org/abstract/document/5749026?casa_token=NO80jiS3yF0AAAAA:tN12D30bR6U8XzbAaEOvB5sLWzkWbYG41GxA2ZwXTR9HycAskx-5FBffXMoox0rd0ohjrIVL), there are three kinds of networks necessary to model VPPs. \n",
    "First, an underlying electrical distribution network is necessary, which generates the plant's defined power and distributes it accordingly. \n",
    "Second, a storage network can be used to store electricity and, if needed, to release it, thus decreasing the power fluctuation in the VPP. \n",
    "Third, a communication system capable to communicate with the VPP coordination centre is needed to monitor and control the individual member's output.<br>\n",
    "For this project, the VPP model was further simplified by ignoring the power storage network, thus the model is described by only the electrical distribution and communication network.<br>\n",
    "Both networks can be modeled as directed graphs $\\mathcal{G} = (N,L)$, with $n_i \\in N$ being the node representing the agent $i$ and $l_{i,j} \\in L$ the edge connecting two distinct agents $i$ and $j$. \n",
    "Thus, $N$ is the set of all nodes and $L$ the set of all edges in a given graph.<br>\n",
    "The power generating units that make up the VPP can thus be modelled as nodes in model graph. These units can each produce an given power output and they also have a degree of reliability that defines how reliably it can provide its defined output. Furthermore, since these units also provide computing power to the communication network, they are therefore also the nodes in the communication network. Both networks thus share in this model the same nodeset $N$. "
   ]
  },
  {
   "cell_type": "markdown",
   "metadata": {},
   "source": [
    "### Electrical and Communication Network Generation\n",
    "To be able to accurately simulate and to analyse optimization algorithms for VPPs, we first need to generate electrical distribution and communication models which accurately reproduce real life properties.<br>\n",
    "First, we define which attributes a node in the model graph possess. In the introduction, it was mentioned that the individual power generating units may be unreliable in their power output. \n",
    "Thus, besides their mean power output $u_i$, each node also has a reliability factor $r_i \\in [0,1]$ which defines the probability that an unit is able to generate its promised output.\n",
    "Next, each unit also provides a given computing power $c_i$ necessary for the coordination and calculation of the for the VPP necessary values.\n",
    "Lastly, each unit also has a specific geographic location defined by its coordinates $x$ and $y$. This information is specially important for the network generation.<br>\n",
    "For the electrical distribution network, the simple minimum-distance graph algorithm described in [this paper](https://ieeexplore.ieee.org/abstract/document/5428366) was used in order to generate arbitrary distribution networks, which connects each node $n_i$ to $j$ of its nearest neighbors. For the communication network... <br>"
   ]
  },
  {
   "cell_type": "code",
   "execution_count": 4,
   "metadata": {},
   "outputs": [
    {
     "data": {
      "text/plain": [
       "Network{Node, ElecEdge, ComEdge}(Node[Node{Int32, Float16}(42, 103, 80, Float16(0.769)), Node{Int32, Float16}(72, 87, 83, Float16(0.494)), Node{Int32, Float16}(7, 35, 95, Float16(0.7207))], ElecEdge[ElecEdge{Node{Int32, Float16}}(Node{Int32, Float16}(42, 103, 80, Float16(0.769)), Node{Int32, Float16}(72, 87, 83, Float16(0.494))), ElecEdge{Node{Int32, Float16}}(Node{Int32, Float16}(72, 87, 83, Float16(0.494)), Node{Int32, Float16}(42, 103, 80, Float16(0.769))), ElecEdge{Node{Int32, Float16}}(Node{Int32, Float16}(7, 35, 95, Float16(0.7207)), Node{Int32, Float16}(42, 103, 80, Float16(0.769)))], ComEdge[])"
      ]
     },
     "execution_count": 4,
     "metadata": {},
     "output_type": "execute_result"
    }
   ],
   "source": [
    "#define the average number of nodes in the network \n",
    "node_scale = 3\n",
    "#for the electrical network: define the connectivity by giving the number of edges in the graph\n",
    "edge_scale = node_scale*1\n",
    "\n",
    "#first, generate all nodes in the network\n",
    "nodes = generateNodes(node_scale)\n",
    "#then, generate all the edges of the electrical network\n",
    "elec_edges = generateElecEdges(nodes, edge_scale)\n",
    "#next, generate the edges of the communication network\n",
    "com_edges = generateComEdges(nodes)\n",
    "#last, create the network containing both the electrical and communication network\n",
    "network = generateNetwork(nodes, elec_edges, com_edges)"
   ]
  },
  {
   "cell_type": "markdown",
   "metadata": {},
   "source": [
    "## Generation of Virtual Network Requests \n",
    "As the next step, an overlying network is mapped on the physical network, which was in this work generated in the last section."
   ]
  }
 ],
 "metadata": {
  "kernelspec": {
   "display_name": "Julia 1.6.0",
   "language": "julia",
   "name": "julia-1.6"
  },
  "language_info": {
   "file_extension": ".jl",
   "mimetype": "application/julia",
   "name": "julia",
   "version": "1.6.0"
  }
 },
 "nbformat": 4,
 "nbformat_minor": 4
}
