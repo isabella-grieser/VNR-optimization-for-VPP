{
 "cells": [
  {
   "cell_type": "code",
   "execution_count": 1,
   "metadata": {
    "scrolled": true
   },
   "outputs": [
    {
     "data": {
      "text/plain": [
       "Network"
      ]
     },
     "execution_count": 1,
     "metadata": {},
     "output_type": "execute_result"
    }
   ],
   "source": [
    "using JuMP\n",
    "include(\"scripts/modelGeneration.jl\")\n",
    "include(\"scripts/modelStructure.jl\")\n",
    "#for citations; unfortunately not working\n",
    "#run(`jupyter nbconvert --to projectseminar.ipynb`)\n",
    "#run(`pandoc -s paper.md -t docx -o paper.docx --filter pandoc-citeproc --bibliography=ref.bib --csl=apa.csl`)"
   ]
  },
  {
   "cell_type": "markdown",
   "metadata": {},
   "source": [
    "# Extension of the Virtual Network Embedding formulation for Virtual Power Plants\n",
    "For this project seminar, an [optimization method for Virtual Network Embeddeding (VNE) systems](https://dl.acm.org/doi/abs/10.1145/3396851.3397693) was extended to handle Virtual Power Plant (VPP) systems in order to minimize its network costs while making sure that relevant system parameters, specially the network's reliability, are fulfilled by the network.<br>\n",
    "VPPs are created by grouping multiple small sized power generating agents, such as power panels and wind turbines, together in order to form a virtual power generating unit that is able to act like a conventional power plant to outside observers.<br>\n",
    "Problematic for such a system is that its members may not produce reliably an in time stable power output. This gets obvious when considering renewable energy sources, where wind and light intensity may vary heavily over the day and over the seasons."
   ]
  },
  {
   "cell_type": "markdown",
   "metadata": {},
   "source": [
    "## Virtual Power Plant Model Description\n",
    "As described in [this paper](https://ieeexplore.ieee.org/abstract/document/5749026?casa_token=NO80jiS3yF0AAAAA:tN12D30bR6U8XzbAaEOvB5sLWzkWbYG41GxA2ZwXTR9HycAskx-5FBffXMoox0rd0ohjrIVL), there are three kinds of networks necessary to model VPPs. \n",
    "First, an underlying electrical distribution network is necessary, which generates the plant's defined power and distributes it accordingly. \n",
    "Second, a storage network can be used to store electricity and, if needed, to release it, thus decreasing the power fluctuation in the VPP. \n",
    "Third, a communication system capable to communicate with the VPP coordination centre is needed to monitor and control the individual member's output. All three make up the Substrate Network(SN), which is the basis of the VPP.<br>\n",
    "For this project, the VPP model was further simplified by ignoring the power storage network, thus the model is described by only the electrical distribution and communication network.<br>\n",
    "Both networks can be modeled as unidirected graphs $\\mathcal{G} = (N,L)$, with $n_i \\in N$ being the node representing the agent $i$ and $l_{i,j} \\in L$ the edge connecting two distinct agents $i$ and $j$. \n",
    "Thus, $N$ is the set of all nodes and $L$ the set of all edges in a given graph.<br>\n",
    "The DERs that make up the VPP can thus be modelled as nodes in model graph. For these nodes, we can define which attributes it possesses. First, these units can each produce an given power output $u_i$ and they also have a degree of reliability $r_i \\in [0,1]$ that defines what the probability is that it can provide its defined output.\n",
    "Next, each DER also provides a given computing power $c_i$ necessary for the coordination and calculation of the for the VPP necessary values.\n",
    "Each unit also has a specific geographic location defined by its coordinates $x$ and $y$. \n",
    "This information is specially important for the network generation. \n",
    "Lastly, each node also possesses a cost $nc_i$ that defines the cost for activating a node in the network. This is necessary since we wish to optimize the network in regards to its costs.<br>\n",
    "Furthermore, the edges in the graph also have attributes. The activation of both electrical distribution and communication links also costs a specific cost $lc_{i,j}$.<br>\n",
    "Since the DERs provide both electrical and computing power to the communication network, they are consequently part of both networks. Thus, the two networks both share in this model the same DERs $n_{DER} \\in N$. But it needs to be considered that the nodes representing the infrastructure, such as mobile towers for the communication network or substations for the electrical network, differs between the two, and thus are nodes that only exist in their respecitve network graph. This means that $N_{com} \\neq N_{elec}$ and thus $L_{com} \\neq L_{elec}$."
   ]
  },
  {
   "cell_type": "markdown",
   "metadata": {},
   "source": [
    "### Electrical and Communication Network Generation\n",
    "To be able to accurately simulate and to analyse optimization algorithms for VPPs, we first need to generate electrical distribution and communication models which accurately reproduce real life properties. Both networks make up the underlying SN, on which a VNR is built.<br>\n",
    "First, the values for all nodes in the network need to be generated. The output power that the DER can produce is a random value in the uniform distribution $p_i \\in [\\mu_p - v_p, \\mu_p + v_p]$. The DER's reliability also varies in a given range $r_i \\in [\\mu_r - v_r, \\mu_r + v_r]$. In addition, the node activation cost, for when a DER is used in a VNR, is here defined as proportional to the generated output $nc_i = \\lambda_N \\cdot p_i$.<br>\n",
    "Next, for the electrical distribution network, a medium to low voltage level distribution network is generated since the DERs are assumed to be geographically near each other. For such type of network, normally a radial topology (also called star topology) is used to model it. The link cost can be seen as proportional to the links length, as defined in [this paper](). So, the link cost is here defined as $lc_{i,j} = \\lambda_{L,e}(|i.x-j.x|+|i.y-j.y|)$. <br> \n",
    "Finally, for the communication network, the star topology was also used, but, as mentioned in the previous section, the DERs have different root nodes compared to the electrical network since a different infrastructure is used for the network. For the link cost, contrary to the electrical links, is roughly independent of the link length.<br>"
   ]
  },
  {
   "cell_type": "code",
   "execution_count": 2,
   "metadata": {
    "scrolled": true
   },
   "outputs": [
    {
     "ename": "LoadError",
     "evalue": "type DataType has no field feeder",
     "output_type": "error",
     "traceback": [
      "type DataType has no field feeder",
      "",
      "Stacktrace:",
      " [1] getproperty(x::Type, f::Symbol)",
      "   @ Base .\\Base.jl:28",
      " [2] generateNetwork(node_cluster::Int64, clusters::Int64, cost_param1::Int64, cost_param2::Int64, size_array::Vector{Any}, radius_1::Int64, radius_2::Int64, power_avg::Int64, power_sd::Int64, reliability_avg::Float64, reliability_sd::Float64)",
      "   @ Main ~\\Jupyter projects\\Project_Seminar_EINS\\VNR-optimization-for-VPP\\scripts\\modelGeneration.jl:33",
      " [3] generateNetwork(node_cluster::Int64, clusters::Int64)",
      "   @ Main ~\\Jupyter projects\\Project_Seminar_EINS\\VNR-optimization-for-VPP\\scripts\\modelGeneration.jl:19",
      " [4] top-level scope",
      "   @ In[2]:8",
      " [5] eval",
      "   @ .\\boot.jl:360 [inlined]",
      " [6] include_string(mapexpr::typeof(REPL.softscope), mod::Module, code::String, filename::String)",
      "   @ Base .\\loading.jl:1094"
     ]
    }
   ],
   "source": [
    "#define the average number of nodes in a network cluster\n",
    "node_cluster = 3\n",
    "#define the number of clusters in the network\n",
    "cluster_sum = 3\n",
    "\n",
    "#generate the network containing both the electrical and communication network; \n",
    "#all other values defined in the text are generated with standard values defined in the doc \n",
    "network = generateNetwork(node_cluster, cluster_sum)\n",
    "#visualize the generated network with the power outputs of the individual nodes\n",
    "#where electrical connections are yellow and communication lines are red\n",
    "visualizeNetwork(network)"
   ]
  },
  {
   "cell_type": "markdown",
   "metadata": {},
   "source": [
    "## Generation of Virtual Network Requests \n",
    "As the next step, an overlying network is mapped on the physical network, which was generated in the last section."
   ]
  }
 ],
 "metadata": {
  "kernelspec": {
   "display_name": "Julia 1.6.0",
   "language": "julia",
   "name": "julia-1.6"
  },
  "language_info": {
   "file_extension": ".jl",
   "mimetype": "application/julia",
   "name": "julia",
   "version": "1.6.0"
  }
 },
 "nbformat": 4,
 "nbformat_minor": 4
}
