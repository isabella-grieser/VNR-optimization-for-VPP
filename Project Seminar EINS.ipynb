{
 "cells": [
  {
   "cell_type": "code",
   "execution_count": null,
   "metadata": {},
   "outputs": [],
   "source": []
  },
  {
   "cell_type": "markdown",
   "metadata": {},
   "source": [
    "# Extension of the Virtual Network Embedding formulation for Virtual Power Plants\n",
    "For this project seminar, an optimization method for Virtual Network Embeddeding (VNE) systems {cite}`mainpaper` was extended to handle Virtual Power Plant (VPP) systems in order to minimize its network costs while making sure that relevant system parameters are fulfilled by the network.<br>\n",
    "VPPs are created by grouping multiple small sized power generating agents, such as power panels and wind turbines, together in order to form a virtual power generating unit that is able to act like a conventional power plant to outside observers."
   ]
  },
  {
   "cell_type": "markdown",
   "metadata": {},
   "source": [
    "## Virtual Power Plant Model Description\n",
    "There are two kinds of networks necessary to model VPPs. First, an underlying electrical \n",
    "distribution network is necessary, which generates the plant's defined power and distributes it accordingly. Second, a communication system capable to communicate with the VPP management is needed to monitor and control the individual member's output.<br>\n",
    "Both networks can be modeled as directed graphs $\\mathcal{G} = (N,L)$, with $n_i \\in N$ being the node representing the agent $i$ and $l_{i,j} \\in L$ the edge connecting two distinct agents $i$ and $j$. Thus, $N$ is the set of all nodes and $L$ the set of all edges in a given graph."
   ]
  },
  {
   "cell_type": "code",
   "execution_count": null,
   "metadata": {},
   "outputs": [],
   "source": []
  }
 ],
 "metadata": {
  "kernelspec": {
   "display_name": "Julia 1.6.0",
   "language": "julia",
   "name": "julia-1.6"
  },
  "language_info": {
   "file_extension": ".jl",
   "mimetype": "application/julia",
   "name": "julia",
   "version": "1.6.0"
  }
 },
 "nbformat": 4,
 "nbformat_minor": 4
}
