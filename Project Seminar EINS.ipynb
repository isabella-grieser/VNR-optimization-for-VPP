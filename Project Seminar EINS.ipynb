{
 "cells": [
  {
   "cell_type": "code",
   "execution_count": 1,
   "metadata": {
    "scrolled": true
   },
   "outputs": [
    {
     "data": {
      "text/plain": [
       "Network"
      ]
     },
     "execution_count": 1,
     "metadata": {},
     "output_type": "execute_result"
    }
   ],
   "source": [
    "using JuMP\n",
    "\n",
    "include(\"scripts/modelGeneration.jl\")\n",
    "include(\"scripts/modelStructure.jl\")"
   ]
  },
  {
   "cell_type": "markdown",
   "metadata": {},
   "source": [
    "# Extension of the Virtual Network Embedding formulation for Virtual Power Plants\n",
    "For this project seminar, an [optimization method for Virtual Network Embeddeding (VNE) systems](https://dl.acm.org/doi/abs/10.1145/3396851.3397693) was extended to handle Virtual Power Plant (VPP) systems in order to minimize its network costs while making sure that relevant system parameters are fulfilled by the network.<br>\n",
    "VPPs are created by grouping multiple small sized power generating agents, such as power panels and wind turbines, together in order to form a virtual power generating unit that is able to act like a conventional power plant to outside observers."
   ]
  },
  {
   "cell_type": "markdown",
   "metadata": {},
   "source": [
    "## Virtual Power Plant Model Description\n",
    "As described in [this paper](https://ieeexplore.ieee.org/abstract/document/5749026?casa_token=NO80jiS3yF0AAAAA:tN12D30bR6U8XzbAaEOvB5sLWzkWbYG41GxA2ZwXTR9HycAskx-5FBffXMoox0rd0ohjrIVL), there are three kinds of networks necessary to model VPPs. \n",
    "First, an underlying electrical distribution network is necessary, which generates the plant's defined power and distributes it accordingly. \n",
    "Second, a storage network can be used to store electricity and, if needed, to release it, thus decreasing the power fluctuation in the VPP. \n",
    "Third, a communication system capable to communicate with the VPP coordination centre is needed to monitor and control the individual member's output.<br>\n",
    "For this project, the VPP model was further simplified by ignoring the power storage network, thus the model is described by only the electrical distribution and communication network.<br>\n",
    "Both networks can be modeled as directed graphs $\\mathcal{G} = (N,L)$, with $n_i \\in N$ being the node representing the agent $i$ and $l_{i,j} \\in L$ the edge connecting two distinct agents $i$ and $j$. \n",
    "Thus, $N$ is the set of all nodes and $L$ the set of all edges in a given graph."
   ]
  },
  {
   "cell_type": "markdown",
   "metadata": {},
   "source": [
    "### Electrical and Communication Network Generation\n",
    "To be able to accurately simulate and to analyse optimization algorithms for VPPs, we first need to generate electrical distribution and communication models which accurately reproduce real life properties.\n",
    "Thus, for the electrical network, the algorithm described in [this paper](https://ieeexplore.ieee.org/abstract/document/5428366) was used in order to generate arbitrary distribution networks. For the communication network... <br>\n",
    "As the power generating units, which represent the nodes in the electrical network, also provide computing power to the communication network, they are therefore also the nodes in the communication network. Both networks thus share the same nodeset $N$. "
   ]
  },
  {
   "cell_type": "code",
   "execution_count": 2,
   "metadata": {},
   "outputs": [
    {
     "ename": "LoadError",
     "evalue": "BoundsError: attempt to access 9-element Vector{Pair} at index [0]",
     "output_type": "error",
     "traceback": [
      "BoundsError: attempt to access 9-element Vector{Pair} at index [0]",
      "",
      "Stacktrace:",
      " [1] getindex",
      "   @ .\\array.jl:801 [inlined]",
      " [2] getindex(A::Vector{Pair}, I::StepRange{Int64, Int64})",
      "   @ Base .\\array.jl:826",
      " [3] getNNearestNodes(node::Node{Int32, Float16}, nodes::Vector{Node}, n::Int32)",
      "   @ Main ~\\Jupyter projects\\Project_Seminar_EINS\\VNR-optimization-for-VPP\\scripts\\modelGeneration.jl:66",
      " [4] generateElecEdges(nodes::Vector{Node}, edge_scale::Int64)",
      "   @ Main ~\\Jupyter projects\\Project_Seminar_EINS\\VNR-optimization-for-VPP\\scripts\\modelGeneration.jl:44",
      " [5] top-level scope",
      "   @ In[2]:8",
      " [6] eval",
      "   @ .\\boot.jl:360 [inlined]",
      " [7] include_string(mapexpr::typeof(REPL.softscope), mod::Module, code::String, filename::String)",
      "   @ Base .\\loading.jl:1094"
     ]
    }
   ],
   "source": [
    "#define the average number of nodes and edges in the network \n",
    "node_scale = 10\n",
    "edge_scale = node_scale*5\n",
    "\n",
    "# first generate all nodes in the network\n",
    "nodes = generateNodes(node_scale)\n",
    "#then generate all the edges of the electrical network\n",
    "elec_edges = generateElecEdges(nodes, edge_scale)\n",
    "#next, generate the edges of the communication network\n",
    "com_edges = generateComEdges(nodes)\n",
    "#last, create the network containing both the electrical and communication network\n",
    "network = generateNetwork(nodes, elec_edges, com_edges)"
   ]
  },
  {
   "cell_type": "markdown",
   "metadata": {},
   "source": [
    "## Generation of Virtual Network Requests \n",
    "As the next step, an overlying network is mapped on the physical network, which was in this work generated in the last section."
   ]
  }
 ],
 "metadata": {
  "kernelspec": {
   "display_name": "Julia 1.6.0",
   "language": "julia",
   "name": "julia-1.6"
  },
  "language_info": {
   "file_extension": ".jl",
   "mimetype": "application/julia",
   "name": "julia",
   "version": "1.6.0"
  }
 },
 "nbformat": 4,
 "nbformat_minor": 4
}
